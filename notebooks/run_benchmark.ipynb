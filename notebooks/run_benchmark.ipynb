{
 "cells": [
  {
   "cell_type": "code",
   "execution_count": null,
   "metadata": {},
   "outputs": [],
   "source": [
    "%load_ext autoreload\n",
    "%autoreload 2"
   ]
  },
  {
   "cell_type": "code",
   "execution_count": null,
   "metadata": {},
   "outputs": [],
   "source": [
    "from benchmark import run \n",
    "\n",
    "df_results = run(2, list_datasets=['mushroom'], range_nb_additional_features=[0,1,5,10])"
   ]
  },
  {
   "cell_type": "code",
   "execution_count": null,
   "metadata": {},
   "outputs": [],
   "source": [
    "import seaborn as sb\n",
    "import matplotlib.pyplot as plt\n",
    "\n",
    "sb.lineplot(data=df_results, x='nb_additional_features', y='ebm_risk_score_fit_time')\n",
    "plt.show()\n",
    "sb.lineplot(data=df_results, x='nb_additional_features', y='ebm_test_log_loss')"
   ]
  },
  {
   "cell_type": "code",
   "execution_count": null,
   "metadata": {},
   "outputs": [],
   "source": [
    "df_results[['faster_risk_test_average_precision', 'ebm_test_average_precision']]"
   ]
  },
  {
   "cell_type": "markdown",
   "metadata": {},
   "source": []
  },
  {
   "cell_type": "code",
   "execution_count": null,
   "metadata": {},
   "outputs": [],
   "source": [
    "import seaborn as sb\n",
    "import pandas as pd\n",
    "import matplotlib.pyplot as plt\n",
    "\n",
    "\n",
    "columns_fasterrisk = ['faster_risk_train_orig_log_loss',\n",
    "       'faster_risk_train_orig_average_precision',\n",
    "       'faster_risk_train_orig_roc_auc', 'faster_risk_train_log_loss',\n",
    "       'faster_risk_train_average_precision', 'faster_risk_train_roc_auc',\n",
    "       'faster_risk_calib_log_loss', 'faster_risk_calib_average_precision',\n",
    "       'faster_risk_calib_roc_auc', 'faster_risk_test_log_loss',\n",
    "       'faster_risk_test_average_precision', 'faster_risk_test_roc_auc']\n",
    "\n",
    "columns_ebm = ['ebm_train_orig_log_loss', 'ebm_train_orig_average_precision',\n",
    "       'ebm_train_orig_roc_auc', 'ebm_train_log_loss',\n",
    "       'ebm_train_average_precision', 'ebm_train_roc_auc',\n",
    "       'ebm_calib_log_loss', 'ebm_calib_average_precision',\n",
    "       'ebm_calib_roc_auc', 'ebm_test_log_loss', 'ebm_test_average_precision',\n",
    "       'ebm_test_roc_auc']\n",
    "\n",
    "common_columns =  ['random_seed', 'use_calibration', 'dataset']\n",
    "df_ebm = df_results[columns_ebm + common_columns]\n",
    "\n",
    "df_ebm.columns = [c.replace('ebm_','') for c in df_ebm.columns]\n",
    "df_ebm['model'] = 'scorepyo'\n",
    "df_ebm['model+calib'] = df_ebm['model'] + df_ebm['use_calibration'].astype(str)\n",
    "\n",
    "df_faster_risk = df_results[columns_fasterrisk+common_columns]\n",
    "df_faster_risk.columns = [c.replace('faster_risk_','') for c in df_faster_risk.columns]\n",
    "df_faster_risk['model'] = 'FasterRisk'\n",
    "df_faster_risk['model+calib'] = 'FasterRisk'\n",
    "\n",
    "df_results_reoriented = pd.concat([df_ebm, df_faster_risk], axis=0)\n",
    "df_results_reoriented\n",
    "for data in [\n",
    "       # 'train_orig', \n",
    "       'train', \n",
    "       # 'calib', \n",
    "'test']:\n",
    "    for metric in ['log_loss', 'average_precision', 'roc_auc']:\n",
    "        col = data+'_'+metric\n",
    "        sb.boxplot(data=df_results_reoriented, x='dataset', y=col, hue='model+calib')\n",
    "        plt.show()"
   ]
  },
  {
   "cell_type": "code",
   "execution_count": null,
   "metadata": {},
   "outputs": [],
   "source": [
    "for metric in ['average_precision', 'roc_auc']:\n",
    "    df_results[f'EBM_better_{metric}'] = (df_results[f'ebm_test_{metric}'] >= df_results[f'faster_risk_test_{metric}'])\n",
    "    df_results[f'EBM_better_train_{metric}'] = (df_results[f'ebm_train_{metric}'] >= df_results[f'faster_risk_train_{metric}'])"
   ]
  },
  {
   "cell_type": "code",
   "execution_count": null,
   "metadata": {},
   "outputs": [],
   "source": [
    "for metric in ['log_loss']:\n",
    "     df_results[f'EBM_better_{metric}'] = (df_results[f'ebm_test_{metric}'] <= df_results[f'faster_risk_test_{metric}'])\n",
    "     df_results[f'EBM_better_train_{metric}'] = (df_results[f'ebm_train_{metric}'] <= df_results[f'faster_risk_train_{metric}'])"
   ]
  },
  {
   "cell_type": "code",
   "execution_count": null,
   "metadata": {},
   "outputs": [],
   "source": [
    "for data in df_results['dataset'].unique():\n",
    "    print(data)\n",
    "    mask = df_results['dataset']==data\n",
    "    for type in ['_train','']:\n",
    "        for metric in ['average_precision', 'roc_auc', 'log_loss']:\n",
    "            print(metric,df_results[mask][f'EBM_better{type}_{metric}'].mean())\n",
    "        print()\n",
    "    print()"
   ]
  },
  {
   "cell_type": "code",
   "execution_count": null,
   "metadata": {},
   "outputs": [],
   "source": []
  }
 ],
 "metadata": {
  "kernelspec": {
   "display_name": "env_scorepyo_without_setuppy",
   "language": "python",
   "name": "python3"
  },
  "language_info": {
   "codemirror_mode": {
    "name": "ipython",
    "version": 3
   },
   "file_extension": ".py",
   "mimetype": "text/x-python",
   "name": "python",
   "nbconvert_exporter": "python",
   "pygments_lexer": "ipython3",
   "version": "3.9.15"
  },
  "orig_nbformat": 4,
  "vscode": {
   "interpreter": {
    "hash": "e746fec48abda6224573652c21b66cdde6d6035f1336b7c5e8e7f1b99ef46209"
   }
  }
 },
 "nbformat": 4,
 "nbformat_minor": 2
}
