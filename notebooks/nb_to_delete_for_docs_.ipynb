{
 "cells": [
  {
   "cell_type": "markdown",
   "metadata": {},
   "source": [
    "# Application to breast cancer dataset"
   ]
  },
  {
   "cell_type": "markdown",
   "metadata": {},
   "source": [
    "## Prepare dataset"
   ]
  },
  {
   "cell_type": "markdown",
   "metadata": {},
   "source": [
    "### Load"
   ]
  },
  {
   "cell_type": "code",
   "execution_count": 1,
   "metadata": {},
   "outputs": [],
   "source": [
    "import numpy as np\n",
    "import pandas as pd\n",
    "\n",
    "pd.options.display.max_columns = 10\n",
    "\n",
    "from sklearn.model_selection import train_test_split\n",
    "from sklearn.datasets import load_breast_cancer\n",
    "\n",
    "data = load_breast_cancer()\n",
    "data_X, data_y = data.data, data.target\n",
    "\n",
    "X = pd.DataFrame(data=data_X, columns=data.feature_names)\n",
    "y = pd.Series(data_y)"
   ]
  },
  {
   "cell_type": "markdown",
   "metadata": {},
   "source": [
    "### Create artificial categorical variable\n",
    "For illustration purposes, create a random categorical feature"
   ]
  },
  {
   "cell_type": "code",
   "execution_count": 2,
   "metadata": {},
   "outputs": [],
   "source": [
    "X[\"category\"] = np.where(X[\"mean smoothness\"] <= 0.1, \"A\", \"B\")"
   ]
  },
  {
   "cell_type": "markdown",
   "metadata": {},
   "source": [
    "### Split train/test"
   ]
  },
  {
   "cell_type": "code",
   "execution_count": 3,
   "metadata": {},
   "outputs": [],
   "source": [
    "X_train, X_test, y_train, y_test = train_test_split(\n",
    "    X, y, test_size=0.25, random_state=0\n",
    ")"
   ]
  },
  {
   "cell_type": "markdown",
   "metadata": {},
   "source": [
    "### Create unknown category in test set\n",
    "To illustrate robustness of implementation, create unknown category in test set"
   ]
  },
  {
   "cell_type": "code",
   "execution_count": 4,
   "metadata": {},
   "outputs": [],
   "source": [
    "X_test[\"category\"] = \"C\""
   ]
  },
  {
   "cell_type": "markdown",
   "metadata": {},
   "source": [
    "## Automatically create binary features \n",
    "\n"
   ]
  },
  {
   "attachments": {},
   "cell_type": "markdown",
   "metadata": {},
   "source": [
    "### Call EBMBinarizer\n",
    "\n",
    "The binary feature creation is based on train dataset.      \n",
    "The train and test dataset are then transformed for training and evaluation."
   ]
  },
  {
   "cell_type": "code",
   "execution_count": 32,
   "metadata": {
    "tags": [
     "full-width"
    ]
   },
   "outputs": [],
   "source": [
    "from scorepyo.binarizers import EBMBinarizer\n",
    "from scorepyo.ranking import DiverseLogOddsDensity\n",
    "\n",
    "ranker = DiverseLogOddsDensity(0)\n",
    "\n",
    "\n",
    "binarizer = EBMBinarizer(max_number_binaries_by_features=2, keep_negative=True)\n",
    "binarizer.fit(X_train, y_train, categorical_features=\"auto\", to_exclude_features=None)\n",
    "\n",
    "# X_train_binarized = binarizer.transform(X_train)\n",
    "# X_test_binarized = binarizer.transform(X_test)"
   ]
  },
  {
   "cell_type": "code",
   "execution_count": 33,
   "metadata": {},
   "outputs": [
    {
     "data": {
      "text/html": [
       "<div>\n",
       "<style scoped>\n",
       "    .dataframe tbody tr th:only-of-type {\n",
       "        vertical-align: middle;\n",
       "    }\n",
       "\n",
       "    .dataframe tbody tr th {\n",
       "        vertical-align: top;\n",
       "    }\n",
       "\n",
       "    .dataframe thead th {\n",
       "        text-align: right;\n",
       "    }\n",
       "</style>\n",
       "<table border=\"1\" class=\"dataframe\">\n",
       "  <thead>\n",
       "    <tr style=\"text-align: right;\">\n",
       "      <th></th>\n",
       "      <th>mean radius</th>\n",
       "      <th>mean texture</th>\n",
       "      <th>mean perimeter</th>\n",
       "      <th>mean area</th>\n",
       "      <th>mean smoothness</th>\n",
       "      <th>...</th>\n",
       "      <th>worst concavity</th>\n",
       "      <th>worst concave points</th>\n",
       "      <th>worst symmetry</th>\n",
       "      <th>worst fractal dimension</th>\n",
       "      <th>category</th>\n",
       "    </tr>\n",
       "  </thead>\n",
       "  <tbody>\n",
       "    <tr>\n",
       "      <th>293</th>\n",
       "      <td>11.850</td>\n",
       "      <td>17.46</td>\n",
       "      <td>75.54</td>\n",
       "      <td>432.7</td>\n",
       "      <td>0.08372</td>\n",
       "      <td>...</td>\n",
       "      <td>0.13160</td>\n",
       "      <td>0.09140</td>\n",
       "      <td>0.3101</td>\n",
       "      <td>0.07007</td>\n",
       "      <td>A</td>\n",
       "    </tr>\n",
       "    <tr>\n",
       "      <th>332</th>\n",
       "      <td>11.220</td>\n",
       "      <td>19.86</td>\n",
       "      <td>71.94</td>\n",
       "      <td>387.3</td>\n",
       "      <td>0.10540</td>\n",
       "      <td>...</td>\n",
       "      <td>0.01335</td>\n",
       "      <td>0.02022</td>\n",
       "      <td>0.3292</td>\n",
       "      <td>0.06522</td>\n",
       "      <td>B</td>\n",
       "    </tr>\n",
       "    <tr>\n",
       "      <th>565</th>\n",
       "      <td>20.130</td>\n",
       "      <td>28.25</td>\n",
       "      <td>131.20</td>\n",
       "      <td>1261.0</td>\n",
       "      <td>0.09780</td>\n",
       "      <td>...</td>\n",
       "      <td>0.32150</td>\n",
       "      <td>0.16280</td>\n",
       "      <td>0.2572</td>\n",
       "      <td>0.06637</td>\n",
       "      <td>A</td>\n",
       "    </tr>\n",
       "    <tr>\n",
       "      <th>278</th>\n",
       "      <td>13.590</td>\n",
       "      <td>17.84</td>\n",
       "      <td>86.24</td>\n",
       "      <td>572.3</td>\n",
       "      <td>0.07948</td>\n",
       "      <td>...</td>\n",
       "      <td>0.10600</td>\n",
       "      <td>0.05185</td>\n",
       "      <td>0.2335</td>\n",
       "      <td>0.06263</td>\n",
       "      <td>A</td>\n",
       "    </tr>\n",
       "    <tr>\n",
       "      <th>489</th>\n",
       "      <td>16.690</td>\n",
       "      <td>20.20</td>\n",
       "      <td>107.10</td>\n",
       "      <td>857.6</td>\n",
       "      <td>0.07497</td>\n",
       "      <td>...</td>\n",
       "      <td>0.24770</td>\n",
       "      <td>0.08737</td>\n",
       "      <td>0.4677</td>\n",
       "      <td>0.07623</td>\n",
       "      <td>A</td>\n",
       "    </tr>\n",
       "    <tr>\n",
       "      <th>...</th>\n",
       "      <td>...</td>\n",
       "      <td>...</td>\n",
       "      <td>...</td>\n",
       "      <td>...</td>\n",
       "      <td>...</td>\n",
       "      <td>...</td>\n",
       "      <td>...</td>\n",
       "      <td>...</td>\n",
       "      <td>...</td>\n",
       "      <td>...</td>\n",
       "      <td>...</td>\n",
       "    </tr>\n",
       "    <tr>\n",
       "      <th>277</th>\n",
       "      <td>18.810</td>\n",
       "      <td>19.98</td>\n",
       "      <td>120.90</td>\n",
       "      <td>1102.0</td>\n",
       "      <td>0.08923</td>\n",
       "      <td>...</td>\n",
       "      <td>0.22100</td>\n",
       "      <td>0.12940</td>\n",
       "      <td>0.2567</td>\n",
       "      <td>0.05737</td>\n",
       "      <td>A</td>\n",
       "    </tr>\n",
       "    <tr>\n",
       "      <th>9</th>\n",
       "      <td>12.460</td>\n",
       "      <td>24.04</td>\n",
       "      <td>83.97</td>\n",
       "      <td>475.9</td>\n",
       "      <td>0.11860</td>\n",
       "      <td>...</td>\n",
       "      <td>1.10500</td>\n",
       "      <td>0.22100</td>\n",
       "      <td>0.4366</td>\n",
       "      <td>0.20750</td>\n",
       "      <td>B</td>\n",
       "    </tr>\n",
       "    <tr>\n",
       "      <th>359</th>\n",
       "      <td>9.436</td>\n",
       "      <td>18.32</td>\n",
       "      <td>59.82</td>\n",
       "      <td>278.6</td>\n",
       "      <td>0.10090</td>\n",
       "      <td>...</td>\n",
       "      <td>0.11440</td>\n",
       "      <td>0.05052</td>\n",
       "      <td>0.2454</td>\n",
       "      <td>0.08136</td>\n",
       "      <td>B</td>\n",
       "    </tr>\n",
       "    <tr>\n",
       "      <th>192</th>\n",
       "      <td>9.720</td>\n",
       "      <td>18.22</td>\n",
       "      <td>60.73</td>\n",
       "      <td>288.1</td>\n",
       "      <td>0.06950</td>\n",
       "      <td>...</td>\n",
       "      <td>0.00000</td>\n",
       "      <td>0.00000</td>\n",
       "      <td>0.1909</td>\n",
       "      <td>0.06559</td>\n",
       "      <td>A</td>\n",
       "    </tr>\n",
       "    <tr>\n",
       "      <th>559</th>\n",
       "      <td>11.510</td>\n",
       "      <td>23.93</td>\n",
       "      <td>74.52</td>\n",
       "      <td>403.5</td>\n",
       "      <td>0.09261</td>\n",
       "      <td>...</td>\n",
       "      <td>0.36300</td>\n",
       "      <td>0.09653</td>\n",
       "      <td>0.2112</td>\n",
       "      <td>0.08732</td>\n",
       "      <td>A</td>\n",
       "    </tr>\n",
       "  </tbody>\n",
       "</table>\n",
       "<p>426 rows × 31 columns</p>\n",
       "</div>"
      ],
      "text/plain": [
       "     mean radius  mean texture  mean perimeter  mean area  mean smoothness  \\\n",
       "293       11.850         17.46           75.54      432.7          0.08372   \n",
       "332       11.220         19.86           71.94      387.3          0.10540   \n",
       "565       20.130         28.25          131.20     1261.0          0.09780   \n",
       "278       13.590         17.84           86.24      572.3          0.07948   \n",
       "489       16.690         20.20          107.10      857.6          0.07497   \n",
       "..           ...           ...             ...        ...              ...   \n",
       "277       18.810         19.98          120.90     1102.0          0.08923   \n",
       "9         12.460         24.04           83.97      475.9          0.11860   \n",
       "359        9.436         18.32           59.82      278.6          0.10090   \n",
       "192        9.720         18.22           60.73      288.1          0.06950   \n",
       "559       11.510         23.93           74.52      403.5          0.09261   \n",
       "\n",
       "     ...  worst concavity  worst concave points  worst symmetry  \\\n",
       "293  ...          0.13160               0.09140          0.3101   \n",
       "332  ...          0.01335               0.02022          0.3292   \n",
       "565  ...          0.32150               0.16280          0.2572   \n",
       "278  ...          0.10600               0.05185          0.2335   \n",
       "489  ...          0.24770               0.08737          0.4677   \n",
       "..   ...              ...                   ...             ...   \n",
       "277  ...          0.22100               0.12940          0.2567   \n",
       "9    ...          1.10500               0.22100          0.4366   \n",
       "359  ...          0.11440               0.05052          0.2454   \n",
       "192  ...          0.00000               0.00000          0.1909   \n",
       "559  ...          0.36300               0.09653          0.2112   \n",
       "\n",
       "     worst fractal dimension  category  \n",
       "293                  0.07007         A  \n",
       "332                  0.06522         B  \n",
       "565                  0.06637         A  \n",
       "278                  0.06263         A  \n",
       "489                  0.07623         A  \n",
       "..                       ...       ...  \n",
       "277                  0.05737         A  \n",
       "9                    0.20750         B  \n",
       "359                  0.08136         B  \n",
       "192                  0.06559         A  \n",
       "559                  0.08732         A  \n",
       "\n",
       "[426 rows x 31 columns]"
      ]
     },
     "execution_count": 33,
     "metadata": {},
     "output_type": "execute_result"
    }
   ],
   "source": [
    "X_train"
   ]
  },
  {
   "cell_type": "code",
   "execution_count": 34,
   "metadata": {},
   "outputs": [],
   "source": [
    "df_info = binarizer.get_info()"
   ]
  },
  {
   "cell_type": "code",
   "execution_count": 35,
   "metadata": {},
   "outputs": [],
   "source": [
    "df_info['rank'] = ranker.compute_ranking_features(df_info)"
   ]
  },
  {
   "cell_type": "code",
   "execution_count": 50,
   "metadata": {},
   "outputs": [
    {
     "data": {
      "text/plain": [
       "<AxesSubplot: xlabel='Top-k', ylabel='Number of combinations'>"
      ]
     },
     "execution_count": 50,
     "metadata": {},
     "output_type": "execute_result"
    },
    {
     "data": {
      "image/png": "[encoded data removed]",
      "text/plain": [
       "<Figure size 640x480 with 1 Axes>"
      ]
     },
     "metadata": {},
     "output_type": "display_data"
    }
   ],
   "source": [
    "data_combi = pd.DataFrame(columns=['Model size s', 'Top-k', 'Number of combinations'],\n",
    "                          data = [[str(s),k,comb(k,s)] for k in range(4,15\n",
    "                                                                      ) for s in range(4,7)])\n",
    "\n",
    "# [[s,k,comb(k,s)] k in range(8,12) for s in range(2,7)]\n",
    "import seaborn as sb\n",
    "\n",
    "sb.lineplot(data=data_combi, x='Top-k', y='Number of combinations', hue='Model size s')"
   ]
  },
  {
   "cell_type": "code",
   "execution_count": 39,
   "metadata": {},
   "outputs": [
    {
     "name": "stdout",
     "output_type": "stream",
     "text": [
      "8 2 28\n",
      "8 3 56\n",
      "8 4 70\n",
      "8 5 56\n",
      "8 6 28\n",
      "9 2 36\n",
      "9 3 84\n",
      "9 4 126\n",
      "9 5 126\n",
      "9 6 84\n",
      "10 2 45\n",
      "10 3 120\n",
      "10 4 210\n",
      "10 5 252\n",
      "10 6 210\n",
      "11 2 55\n",
      "11 3 165\n",
      "11 4 330\n",
      "11 5 462\n",
      "11 6 462\n"
     ]
    }
   ],
   "source": [
    "from math import comb\n",
    "\n",
    "for k in range(8,12):\n",
    "    for s in range(2,7):\n",
    "        print(k,s,comb(k,s))"
   ]
  },
  {
   "cell_type": "code",
   "execution_count": 36,
   "metadata": {},
   "outputs": [
    {
     "name": "stdout",
     "output_type": "stream",
     "text": [
      "| binary_feature             |   log_odds |   density |\n",
      "|:---------------------------|-----------:|----------:|\n",
      "| worst concave points < 0.1 |   0.560619 |       213 |\n",
      "| mean texture < 18.81       |   0.553434 |       213 |\n",
      "| worst concavity >= 0.23    |  -0.538018 |       213 |\n",
      "| area error < 23.93         |   0.458233 |       213 |\n",
      "| worst area < 684.55        |   0.447778 |       213 |\n"
     ]
    }
   ],
   "source": [
    "print(df_info.sort_values(by='rank')[['log_odds', 'density']].head(5).to_markdown())"
   ]
  },
  {
   "cell_type": "code",
   "execution_count": 6,
   "metadata": {},
   "outputs": [
    {
     "data": {
      "text/html": [
       "<div>\n",
       "<style scoped>\n",
       "    .dataframe tbody tr th:only-of-type {\n",
       "        vertical-align: middle;\n",
       "    }\n",
       "\n",
       "    .dataframe tbody tr th {\n",
       "        vertical-align: top;\n",
       "    }\n",
       "\n",
       "    .dataframe thead th {\n",
       "        text-align: right;\n",
       "    }\n",
       "</style>\n",
       "<table border=\"1\" class=\"dataframe\">\n",
       "  <thead>\n",
       "    <tr style=\"text-align: right;\">\n",
       "      <th></th>\n",
       "      <th>mean radius &lt; 12.26</th>\n",
       "      <th>12.26 &lt;= mean radius &lt; 14.66</th>\n",
       "      <th>mean radius &gt;= 14.66</th>\n",
       "      <th>mean texture &lt; 17.2</th>\n",
       "      <th>17.2 &lt;= mean texture &lt; 20.66</th>\n",
       "      <th>...</th>\n",
       "      <th>worst fractal dimension &lt; 0.07</th>\n",
       "      <th>0.07 &lt;= worst fractal dimension &lt; 0.09</th>\n",
       "      <th>worst fractal dimension &gt;= 0.09</th>\n",
       "      <th>category_A</th>\n",
       "      <th>category_B</th>\n",
       "    </tr>\n",
       "  </thead>\n",
       "  <tbody>\n",
       "    <tr>\n",
       "      <th>196</th>\n",
       "      <td>0</td>\n",
       "      <td>1</td>\n",
       "      <td>0</td>\n",
       "      <td>1</td>\n",
       "      <td>0</td>\n",
       "      <td>...</td>\n",
       "      <td>1</td>\n",
       "      <td>0</td>\n",
       "      <td>0</td>\n",
       "      <td>1</td>\n",
       "      <td>0</td>\n",
       "    </tr>\n",
       "    <tr>\n",
       "      <th>42</th>\n",
       "      <td>1</td>\n",
       "      <td>0</td>\n",
       "      <td>0</td>\n",
       "      <td>0</td>\n",
       "      <td>0</td>\n",
       "      <td>...</td>\n",
       "      <td>1</td>\n",
       "      <td>0</td>\n",
       "      <td>0</td>\n",
       "      <td>0</td>\n",
       "      <td>1</td>\n",
       "    </tr>\n",
       "    <tr>\n",
       "      <th>286</th>\n",
       "      <td>1</td>\n",
       "      <td>0</td>\n",
       "      <td>0</td>\n",
       "      <td>0</td>\n",
       "      <td>1</td>\n",
       "      <td>...</td>\n",
       "      <td>0</td>\n",
       "      <td>0</td>\n",
       "      <td>1</td>\n",
       "      <td>0</td>\n",
       "      <td>1</td>\n",
       "    </tr>\n",
       "  </tbody>\n",
       "</table>\n",
       "<p>3 rows × 92 columns</p>\n",
       "</div>"
      ],
      "text/plain": [
       "     mean radius < 12.26  12.26 <= mean radius < 14.66  mean radius >= 14.66  \\\n",
       "196                    0                             1                     0   \n",
       "42                     1                             0                     0   \n",
       "286                    1                             0                     0   \n",
       "\n",
       "     mean texture < 17.2  17.2 <= mean texture < 20.66  ...  \\\n",
       "196                    1                             0  ...   \n",
       "42                     0                             0  ...   \n",
       "286                    0                             1  ...   \n",
       "\n",
       "     worst fractal dimension < 0.07  0.07 <= worst fractal dimension < 0.09  \\\n",
       "196                               1                                       0   \n",
       "42                                1                                       0   \n",
       "286                               0                                       0   \n",
       "\n",
       "     worst fractal dimension >= 0.09  category_A  category_B  \n",
       "196                                0           1           0  \n",
       "42                                 0           0           1  \n",
       "286                                1           0           1  \n",
       "\n",
       "[3 rows x 92 columns]"
      ]
     },
     "execution_count": 6,
     "metadata": {},
     "output_type": "execute_result"
    }
   ],
   "source": [
    "X_train_binarized.sample(3)"
   ]
  },
  {
   "attachments": {},
   "cell_type": "markdown",
   "metadata": {},
   "source": [
    "### Display information from binarizer\n",
    "\n",
    "The binarizer also computes a dataframe containing information about the binarizing process. \n",
    "This information is later used to for the risk-score model.\n",
    "\n",
    "It contains the following information for each binary feature created:\n",
    "* name of binary feature\n",
    "* log-odd coefficient of the binary feature according to EBM underlying model\n",
    "* lower and upper threshold value used for creating the interval on the original feature domain\n",
    "* category value if the original feature was categorical\n",
    "* original feature name\n",
    "* original feature type\n",
    "* number of samples with a positive value on this binary feature\n",
    "\n",
    "\n",
    "\n",
    "* name of the original feature"
   ]
  },
  {
   "cell_type": "code",
   "execution_count": 7,
   "metadata": {},
   "outputs": [
    {
     "data": {
      "text/html": [
       "<div>\n",
       "<style scoped>\n",
       "    .dataframe tbody tr th:only-of-type {\n",
       "        vertical-align: middle;\n",
       "    }\n",
       "\n",
       "    .dataframe tbody tr th {\n",
       "        vertical-align: top;\n",
       "    }\n",
       "\n",
       "    .dataframe thead th {\n",
       "        text-align: right;\n",
       "    }\n",
       "</style>\n",
       "<table border=\"1\" class=\"dataframe\">\n",
       "  <thead>\n",
       "    <tr style=\"text-align: right;\">\n",
       "      <th></th>\n",
       "      <th>log_odds</th>\n",
       "      <th>lower_threshold</th>\n",
       "      <th>upper_threshold</th>\n",
       "      <th>category_value</th>\n",
       "      <th>feature</th>\n",
       "      <th>type</th>\n",
       "      <th>density</th>\n",
       "    </tr>\n",
       "    <tr>\n",
       "      <th>binary_feature</th>\n",
       "      <th></th>\n",
       "      <th></th>\n",
       "      <th></th>\n",
       "      <th></th>\n",
       "      <th></th>\n",
       "      <th></th>\n",
       "      <th></th>\n",
       "    </tr>\n",
       "  </thead>\n",
       "  <tbody>\n",
       "    <tr>\n",
       "      <th>mean radius &lt; 12.26</th>\n",
       "      <td>0.135708</td>\n",
       "      <td>NaN</td>\n",
       "      <td>12.26</td>\n",
       "      <td>None</td>\n",
       "      <td>mean radius</td>\n",
       "      <td>continuous</td>\n",
       "      <td>142</td>\n",
       "    </tr>\n",
       "    <tr>\n",
       "      <th>12.26 &lt;= mean radius &lt; 14.66</th>\n",
       "      <td>0.086529</td>\n",
       "      <td>12.26</td>\n",
       "      <td>14.66</td>\n",
       "      <td>None</td>\n",
       "      <td>mean radius</td>\n",
       "      <td>continuous</td>\n",
       "      <td>142</td>\n",
       "    </tr>\n",
       "    <tr>\n",
       "      <th>mean radius &gt;= 14.66</th>\n",
       "      <td>-0.222237</td>\n",
       "      <td>14.66</td>\n",
       "      <td>NaN</td>\n",
       "      <td>None</td>\n",
       "      <td>mean radius</td>\n",
       "      <td>continuous</td>\n",
       "      <td>142</td>\n",
       "    </tr>\n",
       "    <tr>\n",
       "      <th>mean texture &lt; 17.2</th>\n",
       "      <td>0.740917</td>\n",
       "      <td>NaN</td>\n",
       "      <td>17.205</td>\n",
       "      <td>None</td>\n",
       "      <td>mean texture</td>\n",
       "      <td>continuous</td>\n",
       "      <td>142</td>\n",
       "    </tr>\n",
       "    <tr>\n",
       "      <th>17.2 &lt;= mean texture &lt; 20.66</th>\n",
       "      <td>0.056726</td>\n",
       "      <td>17.205</td>\n",
       "      <td>20.665</td>\n",
       "      <td>None</td>\n",
       "      <td>mean texture</td>\n",
       "      <td>continuous</td>\n",
       "      <td>142</td>\n",
       "    </tr>\n",
       "    <tr>\n",
       "      <th>...</th>\n",
       "      <td>...</td>\n",
       "      <td>...</td>\n",
       "      <td>...</td>\n",
       "      <td>...</td>\n",
       "      <td>...</td>\n",
       "      <td>...</td>\n",
       "      <td>...</td>\n",
       "    </tr>\n",
       "    <tr>\n",
       "      <th>0.07 &lt;= worst fractal dimension &lt; 0.09</th>\n",
       "      <td>0.372596</td>\n",
       "      <td>0.07428</td>\n",
       "      <td>0.08649</td>\n",
       "      <td>None</td>\n",
       "      <td>worst fractal dimension</td>\n",
       "      <td>continuous</td>\n",
       "      <td>142</td>\n",
       "    </tr>\n",
       "    <tr>\n",
       "      <th>worst fractal dimension &gt;= 0.09</th>\n",
       "      <td>-0.156302</td>\n",
       "      <td>0.08649</td>\n",
       "      <td>NaN</td>\n",
       "      <td>None</td>\n",
       "      <td>worst fractal dimension</td>\n",
       "      <td>continuous</td>\n",
       "      <td>142</td>\n",
       "    </tr>\n",
       "    <tr>\n",
       "      <th>category_A</th>\n",
       "      <td>0.192341</td>\n",
       "      <td>None</td>\n",
       "      <td>None</td>\n",
       "      <td>A</td>\n",
       "      <td>category</td>\n",
       "      <td>categorical</td>\n",
       "      <td>266</td>\n",
       "    </tr>\n",
       "    <tr>\n",
       "      <th>category_B</th>\n",
       "      <td>-0.319767</td>\n",
       "      <td>None</td>\n",
       "      <td>None</td>\n",
       "      <td>B</td>\n",
       "      <td>category</td>\n",
       "      <td>categorical</td>\n",
       "      <td>160</td>\n",
       "    </tr>\n",
       "    <tr>\n",
       "      <th>intercept</th>\n",
       "      <td>1.367172</td>\n",
       "      <td>None</td>\n",
       "      <td>None</td>\n",
       "      <td>None</td>\n",
       "      <td>intercept</td>\n",
       "      <td>None</td>\n",
       "      <td>None</td>\n",
       "    </tr>\n",
       "  </tbody>\n",
       "</table>\n",
       "<p>93 rows × 7 columns</p>\n",
       "</div>"
      ],
      "text/plain": [
       "                                        log_odds lower_threshold  \\\n",
       "binary_feature                                                     \n",
       "mean radius < 12.26                     0.135708             NaN   \n",
       "12.26 <= mean radius < 14.66            0.086529           12.26   \n",
       "mean radius >= 14.66                   -0.222237           14.66   \n",
       "mean texture < 17.2                     0.740917             NaN   \n",
       "17.2 <= mean texture < 20.66            0.056726          17.205   \n",
       "...                                          ...             ...   \n",
       "0.07 <= worst fractal dimension < 0.09  0.372596         0.07428   \n",
       "worst fractal dimension >= 0.09        -0.156302         0.08649   \n",
       "category_A                              0.192341            None   \n",
       "category_B                             -0.319767            None   \n",
       "intercept                               1.367172            None   \n",
       "\n",
       "                                       upper_threshold category_value  \\\n",
       "binary_feature                                                          \n",
       "mean radius < 12.26                              12.26           None   \n",
       "12.26 <= mean radius < 14.66                     14.66           None   \n",
       "mean radius >= 14.66                               NaN           None   \n",
       "mean texture < 17.2                             17.205           None   \n",
       "17.2 <= mean texture < 20.66                    20.665           None   \n",
       "...                                                ...            ...   \n",
       "0.07 <= worst fractal dimension < 0.09         0.08649           None   \n",
       "worst fractal dimension >= 0.09                    NaN           None   \n",
       "category_A                                        None              A   \n",
       "category_B                                        None              B   \n",
       "intercept                                         None           None   \n",
       "\n",
       "                                                        feature         type  \\\n",
       "binary_feature                                                                 \n",
       "mean radius < 12.26                                 mean radius   continuous   \n",
       "12.26 <= mean radius < 14.66                        mean radius   continuous   \n",
       "mean radius >= 14.66                                mean radius   continuous   \n",
       "mean texture < 17.2                                mean texture   continuous   \n",
       "17.2 <= mean texture < 20.66                       mean texture   continuous   \n",
       "...                                                         ...          ...   \n",
       "0.07 <= worst fractal dimension < 0.09  worst fractal dimension   continuous   \n",
       "worst fractal dimension >= 0.09         worst fractal dimension   continuous   \n",
       "category_A                                             category  categorical   \n",
       "category_B                                             category  categorical   \n",
       "intercept                                             intercept         None   \n",
       "\n",
       "                                       density  \n",
       "binary_feature                                  \n",
       "mean radius < 12.26                        142  \n",
       "12.26 <= mean radius < 14.66               142  \n",
       "mean radius >= 14.66                       142  \n",
       "mean texture < 17.2                        142  \n",
       "17.2 <= mean texture < 20.66               142  \n",
       "...                                        ...  \n",
       "0.07 <= worst fractal dimension < 0.09     142  \n",
       "worst fractal dimension >= 0.09            142  \n",
       "category_A                                 266  \n",
       "category_B                                 160  \n",
       "intercept                                 None  \n",
       "\n",
       "[93 rows x 7 columns]"
      ]
     },
     "execution_count": 7,
     "metadata": {},
     "output_type": "execute_result"
    }
   ],
   "source": [
    "binarizer.get_info()"
   ]
  },
  {
   "attachments": {},
   "cell_type": "markdown",
   "metadata": {},
   "source": [
    "## Train RiskScore model\n",
    "\n",
    "The `RiskScore` models can take several parameters divided into three sets:\n",
    "* Binarizer parameter :\n",
    "    * `binarizer`: binarizer to use for the risk score model\n",
    "* Risk score cards parameters : defines the property of the score card\n",
    "    *  `nb_max_features`: number of maximum binary features to use for the risk score model\n",
    "    *  `min_point_value`: minimum possible number of points for each binary feature\n",
    "    *  `max_point_value`: maximum possible number of points for each binary feature\n",
    "* Exploration/fitting parameters : defines the different exploration phase of the risk score model\n",
    "    * `ranker`: ranker of binary features\n",
    "    * `nb_additional_features`: number of additional features to take into the subset of binary features according to the ranker\n",
    "    * `enumeration_maximization_metric`: maximization metric that will be used to elicit the best enumerated combination\n",
    "    * `calibrator`: calibrator of probabilities for each score\n",
    "    \n",
    "\n",
    "`EBMRiskScore` is a child class of `RiskScore`, that automatically that uses `EBMBinarizer` as a binarizer."
   ]
  },
  {
   "cell_type": "code",
   "execution_count": 8,
   "metadata": {},
   "outputs": [
    {
     "data": {
      "text/plain": [
       "<scorepyo.models.EBMRiskScore at 0x237e07568e0>"
      ]
     },
     "execution_count": 8,
     "metadata": {},
     "output_type": "execute_result"
    }
   ],
   "source": [
    "from scorepyo.models import EBMRiskScore\n",
    "\n",
    "\n",
    "scorepyo_model = EBMRiskScore(\n",
    "    nb_max_features=4,\n",
    "    min_point_value=-1,\n",
    "    max_point_value=2,\n",
    ")\n",
    "\n",
    "scorepyo_model.fit(X_train, y_train)"
   ]
  },
  {
   "cell_type": "markdown",
   "metadata": {},
   "source": [
    "### Display the summary of the risk score model\n",
    "\n",
    "The summary of the risk score built by the model.  \n",
    "\n",
    "It displays two elements :\n",
    "* Feature-point card : Points for each selected binary feature\n",
    "* Score card : Scores (=sum of points) with their associated probability"
   ]
  },
  {
   "cell_type": "code",
   "execution_count": 9,
   "metadata": {},
   "outputs": [
    {
     "name": "stdout",
     "output_type": "stream",
     "text": [
      "======================\n",
      "| FEATURE-POINT CARD |\n",
      "======================\n",
      "| Feature                      | Description                  | Point(s)   |       |\n",
      "|:-----------------------------|:-----------------------------|:-----------|:------|\n",
      "| worst concave points >= 0.14 | worst concave points >= 0.14 | -1         | ...   |\n",
      "| area error >= 33.35          | area error >= 33.35          | -1         | + ... |\n",
      "| worst radius >= 16.66        | worst radius >= 16.66        | -1         | + ... |\n",
      "| worst texture < 22.66        | worst texture < 22.66        | 1          | + ... |\n",
      "|                              |                              | SCORE=     | ...   |\n",
      "\n",
      "=======================================\n",
      "=======================================\n",
      "\n",
      "======================\n",
      "|     SCORE CARD     |\n",
      "======================\n",
      "| SCORE   | -3    | -2    | -1     | 0      | 1      |\n",
      "|:--------|:------|:------|:-------|:-------|:-------|\n",
      "| RISK    | 0.00% | 2.50% | 46.15% | 95.83% | 99.10% |\n"
     ]
    }
   ],
   "source": [
    "scorepyo_model.summary()"
   ]
  },
  {
   "cell_type": "markdown",
   "metadata": {},
   "source": [
    "## Evaluation on test set"
   ]
  },
  {
   "cell_type": "markdown",
   "metadata": {},
   "source": [
    "### Precision-Recall curve on test set"
   ]
  },
  {
   "cell_type": "code",
   "execution_count": 10,
   "metadata": {},
   "outputs": [
    {
     "data": {
      "image/png": "[encoded data removed]",
      "text/plain": [
       "<Figure size 700x700 with 1 Axes>"
      ]
     },
     "metadata": {},
     "output_type": "display_data"
    }
   ],
   "source": [
    "import matplotlib.pyplot as plt\n",
    "from sklearn.metrics import precision_recall_curve, average_precision_score\n",
    "\n",
    "\n",
    "y_proba = scorepyo_model.predict_proba(X_test)[:, 1].reshape(-1, 1)\n",
    "\n",
    "precision, recall, thresholds = precision_recall_curve(y_test.astype(int), y_proba)\n",
    "fig, ax = plt.subplots(figsize=(7, 7))\n",
    "plt.plot(recall, precision)\n",
    "average_precision = np.round(average_precision_score(y_test.astype(int), y_proba), 3)\n",
    "title_PR_curve = f\"Average precision : \\n{average_precision}\"\n",
    "plt.title(title_PR_curve)\n",
    "plt.xlabel(\"Recall\")\n",
    "plt.ylabel(\"Precision\")\n",
    "plt.grid()\n",
    "plt.show()"
   ]
  }
 ],
 "metadata": {
  "kernelspec": {
   "display_name": "Python 3.9.15 ('env_scorepyo_without_setuppy')",
   "language": "python",
   "name": "python3"
  },
  "language_info": {
   "codemirror_mode": {
    "name": "ipython",
    "version": 3
   },
   "file_extension": ".py",
   "mimetype": "text/x-python",
   "name": "python",
   "nbconvert_exporter": "python",
   "pygments_lexer": "ipython3",
   "version": "3.9.15"
  },
  "orig_nbformat": 4,
  "vscode": {
   "interpreter": {
    "hash": "e746fec48abda6224573652c21b66cdde6d6035f1336b7c5e8e7f1b99ef46209"
   }
  }
 },
 "nbformat": 4,
 "nbformat_minor": 2
}
