{
 "cells": [
  {
   "cell_type": "code",
   "execution_count": 1,
   "metadata": {},
   "outputs": [],
   "source": [
    "import numpy as np\n",
    "import pandas as pd\n",
    "\n",
    "pd.options.display.max_columns = 10\n",
    "\n",
    "from sklearn.model_selection import train_test_split\n",
    "from sklearn.datasets import load_breast_cancer\n",
    "\n",
    "data = load_breast_cancer()\n",
    "data_X, data_y = data.data, data.target\n",
    "\n",
    "X = pd.DataFrame(data=data_X, columns=data.feature_names)\n",
    "y = pd.Series(data_y)\n",
    "\n",
    "X[\"category\"] = np.where(X[\"mean smoothness\"] <= 0.1, \"A\", \"B\")"
   ]
  },
  {
   "cell_type": "code",
   "execution_count": 2,
   "metadata": {},
   "outputs": [],
   "source": [
    "X_train, X_test, y_train, y_test = train_test_split(\n",
    "    X, y, test_size=0.25, random_state=0\n",
    ")"
   ]
  },
  {
   "cell_type": "code",
   "execution_count": 3,
   "metadata": {},
   "outputs": [],
   "source": [
    "from scorepyo.binarizers import EBMBinarizer\n",
    "\n",
    "\n",
    "binarizer = EBMBinarizer(max_number_binaries_by_features=3, keep_negative=True)\n",
    "binarizer.fit(X_train, y_train, categorical_features=\"auto\", to_exclude_features=None)\n",
    "\n",
    "X_train_binarized = binarizer.transform(X_train)\n",
    "X_test_binarized = binarizer.transform(X_test)"
   ]
  },
  {
   "cell_type": "code",
   "execution_count": 4,
   "metadata": {},
   "outputs": [
    {
     "name": "stderr",
     "output_type": "stream",
     "text": [
      "100%|██████████| 10/10 [00:00<00:00, 14.21it/s]\n"
     ]
    }
   ],
   "source": [
    "from mrmr import mrmr_classif\n",
    "\n",
    "selected_features = mrmr_classif(X=X_train_binarized, y=y_train, K=10)"
   ]
  },
  {
   "cell_type": "code",
   "execution_count": 5,
   "metadata": {},
   "outputs": [
    {
     "name": "stdout",
     "output_type": "stream",
     "text": [
      "\u001b[1;31mSignature:\u001b[0m\n",
      "\u001b[0mmrmr_classif\u001b[0m\u001b[1;33m(\u001b[0m\u001b[1;33m\n",
      "\u001b[0m    \u001b[0mX\u001b[0m\u001b[1;33m,\u001b[0m\u001b[1;33m\n",
      "\u001b[0m    \u001b[0my\u001b[0m\u001b[1;33m,\u001b[0m\u001b[1;33m\n",
      "\u001b[0m    \u001b[0mK\u001b[0m\u001b[1;33m,\u001b[0m\u001b[1;33m\n",
      "\u001b[0m    \u001b[0mrelevance\u001b[0m\u001b[1;33m=\u001b[0m\u001b[1;34m'f'\u001b[0m\u001b[1;33m,\u001b[0m\u001b[1;33m\n",
      "\u001b[0m    \u001b[0mredundancy\u001b[0m\u001b[1;33m=\u001b[0m\u001b[1;34m'c'\u001b[0m\u001b[1;33m,\u001b[0m\u001b[1;33m\n",
      "\u001b[0m    \u001b[0mdenominator\u001b[0m\u001b[1;33m=\u001b[0m\u001b[1;34m'mean'\u001b[0m\u001b[1;33m,\u001b[0m\u001b[1;33m\n",
      "\u001b[0m    \u001b[0mcat_features\u001b[0m\u001b[1;33m=\u001b[0m\u001b[1;32mNone\u001b[0m\u001b[1;33m,\u001b[0m\u001b[1;33m\n",
      "\u001b[0m    \u001b[0mcat_encoding\u001b[0m\u001b[1;33m=\u001b[0m\u001b[1;34m'leave_one_out'\u001b[0m\u001b[1;33m,\u001b[0m\u001b[1;33m\n",
      "\u001b[0m    \u001b[0monly_same_domain\u001b[0m\u001b[1;33m=\u001b[0m\u001b[1;32mFalse\u001b[0m\u001b[1;33m,\u001b[0m\u001b[1;33m\n",
      "\u001b[0m    \u001b[0mreturn_scores\u001b[0m\u001b[1;33m=\u001b[0m\u001b[1;32mFalse\u001b[0m\u001b[1;33m,\u001b[0m\u001b[1;33m\n",
      "\u001b[0m    \u001b[0mn_jobs\u001b[0m\u001b[1;33m=\u001b[0m\u001b[1;33m-\u001b[0m\u001b[1;36m1\u001b[0m\u001b[1;33m,\u001b[0m\u001b[1;33m\n",
      "\u001b[0m    \u001b[0mshow_progress\u001b[0m\u001b[1;33m=\u001b[0m\u001b[1;32mTrue\u001b[0m\u001b[1;33m,\u001b[0m\u001b[1;33m\n",
      "\u001b[0m\u001b[1;33m)\u001b[0m\u001b[1;33m\u001b[0m\u001b[1;33m\u001b[0m\u001b[0m\n",
      "\u001b[1;31mDocstring:\u001b[0m\n",
      "MRMR feature selection for a classification task\n",
      "Parameters\n",
      "----------\n",
      "X: pandas.DataFrame\n",
      "    A DataFrame containing all the features.\n",
      "y: pandas.Series\n",
      "    A Series containing the (categorical) target variable.\n",
      "K: int\n",
      "    Number of features to select.\n",
      "features: list of str (optional, default=None)\n",
      "    List of numeric column names. If not specified, all numeric columns (integer and float) are used.\n",
      "relevance: str or callable\n",
      "    Relevance method.\n",
      "    If string, name of method, supported: \"f\" (f-statistic), \"ks\" (kolmogorov-smirnov), \"rf\" (random forest).\n",
      "    If callable, it should take \"X\" and \"y\" as input and return a pandas.Series containing a (non-negative)\n",
      "    score of relevance for each feature.\n",
      "redundancy: str or callable\n",
      "    Redundancy method.\n",
      "    If string, name of method, supported: \"c\" (Pearson correlation).\n",
      "    If callable, it should take \"X\", \"target_column\" and \"features\" as input and return a pandas.Series\n",
      "    containing a score of redundancy for each feature.\n",
      "denominator: str or callable (optional, default='mean')\n",
      "    Synthesis function to apply to the denominator of MRMR score.\n",
      "    If string, name of method. Supported: 'max', 'mean'.\n",
      "    If callable, it should take an iterable as input and return a scalar.\n",
      "cat_features: list (optional, default=None)\n",
      "    List of categorical features. If None, all string columns will be encoded.\n",
      "cat_encoding: str\n",
      "    Name of categorical encoding. Supported: 'leave_one_out', 'james_stein', 'target'.\n",
      "only_same_domain: bool (optional, default=False)\n",
      "    If False, all the necessary correlation coefficients are computed.\n",
      "    If True, only features belonging to the same domain are compared.\n",
      "    Domain is defined by the string preceding the first underscore:\n",
      "    for instance \"cusinfo_age\" and \"cusinfo_income\" belong to the same domain, whereas \"age\" and \"income\" don't.\n",
      "return_scores: bool (optional, default=False)\n",
      "    If False, only the list of selected features is returned.\n",
      "    If True, a tuple containing (list of selected features, relevance, redundancy) is returned.\n",
      "\n",
      "n_jobs: int (optional, default=-1)\n",
      "    Maximum number of workers to use. Only used when relevance = \"f\" or redundancy = \"corr\".\n",
      "    If -1, use as many workers as min(cpu count, number of features).\n",
      "show_progress: bool (optional, default=True)\n",
      "    If False, no progress bar is displayed.\n",
      "    If True, a TQDM progress bar shows the number of features processed.\n",
      "Returns\n",
      "-------\n",
      "selected_features: list of str\n",
      "    List of selected features.\n",
      "\u001b[1;31mFile:\u001b[0m      c:\\users\\s5384228\\anaconda3\\envs\\env_scorepyo_without_setuppy\\lib\\site-packages\\mrmr\\pandas.py\n",
      "\u001b[1;31mType:\u001b[0m      function\n"
     ]
    }
   ],
   "source": [
    "?mrmr_classif"
   ]
  },
  {
   "cell_type": "code",
   "execution_count": 10,
   "metadata": {},
   "outputs": [],
   "source": [
    "import numpy as np\n",
    "import pandas as pd\n",
    "from sklearn.datasets import load_breast_cancer\n",
    "from sklearn.metrics import (\n",
    "    average_precision_score,\n",
    "    precision_recall_curve,\n",
    "    precision_score,\n",
    ")\n",
    "from sklearn.model_selection import train_test_split\n",
    "\n",
    "from scorepyo._utils import fast_numba_auc\n",
    "from scorepyo.calibration import VanillaCalibrator\n",
    "from scorepyo.models import EBMRiskScore\n",
    "from scorepyo.ranking import LogOddsDensity, MRMRRank\n",
    "\n",
    "\n",
    "def test_end_2_end():\n",
    "    # assert True\n",
    "\n",
    "    data = load_breast_cancer()\n",
    "    data_X, data_y = data.data, data.target\n",
    "\n",
    "    X = pd.DataFrame(data=data_X, columns=data.feature_names)\n",
    "    X[\"category\"] = np.where(X[\"mean smoothness\"] <= 0.1, \"A\", \"B\")\n",
    "    y = pd.Series(data_y)\n",
    "\n",
    "    X_train, X_test, y_train, y_test = train_test_split(\n",
    "        X, y, test_size=0.25, random_state=0\n",
    "    )\n",
    "\n",
    "    X_test[\"category\"] = \"C\"\n",
    "\n",
    "    min_point_value = -2\n",
    "    max_point_value = 3\n",
    "    nb_max_features = 4\n",
    "\n",
    "    ranker = LogOddsDensity()\n",
    "    ranker = MRMRRank()\n",
    "\n",
    "    optim_method = fast_numba_auc\n",
    "\n",
    "    scorepyo_model = EBMRiskScore(\n",
    "        min_point_value=min_point_value,\n",
    "        max_point_value=max_point_value,\n",
    "        nb_max_features=nb_max_features,\n",
    "        nb_additional_features=6,\n",
    "        enumeration_maximization_metric=optim_method,\n",
    "        ranker=ranker,\n",
    "        calibrator=VanillaCalibrator(),\n",
    "    )\n",
    "\n",
    "    scorepyo_model.fit(\n",
    "        X_train,\n",
    "        y_train,\n",
    "        X_calib=None,\n",
    "        y_calib=None,\n",
    "        categorical_features=[\"category\"],\n",
    "    )\n",
    "\n",
    "    scorepyo_model.summary()\n",
    "\n",
    "    # y_proba = scorepyo_model.predict_proba(X_test)[:, 1].reshape(-1, 1)\n",
    "\n",
    "    # # precision_recall_curve(y_test.astype(int), y_proba)\n",
    "    # average_precision = np.round(\n",
    "    #     average_precision_score(y_test.astype(int), y_proba), 3\n",
    "    # )\n",
    "\n",
    "    # print(f\"Average precision : \\n{average_precision}\")\n",
    "\n",
    "    # precision_test = precision_score(y_test.astype(int), y_proba > 0.5)\n",
    "\n",
    "    # print(f\"Precision@0.5: \\n{precision_test}\")"
   ]
  },
  {
   "cell_type": "code",
   "execution_count": 11,
   "metadata": {},
   "outputs": [
    {
     "name": "stdout",
     "output_type": "stream",
     "text": [
      "======================\n",
      "| FEATURE-POINT CARD |\n",
      "======================\n",
      "| Feature              | Description                  | Point(s)   |       |\n",
      "|:---------------------|:-----------------------------|:-----------|:------|\n",
      "| worst concave points | worst concave points >= 0.14 | -2         | ...   |\n",
      "| worst radius         | worst radius >= 16.66        | -2         | + ... |\n",
      "| area error           | area error >= 33.35          | -1         | + ... |\n",
      "| mean concavity       | mean concavity >= 0.1        | -1         | + ... |\n",
      "|                      |                              | SCORE=     | ...   |\n",
      "\n",
      "=======================================\n",
      "=======================================\n",
      "\n",
      "======================\n",
      "|     SCORE CARD     |\n",
      "======================\n",
      "| SCORE   | -6    | -5    | -4    | -3     | -2     | -1     | 0      |\n",
      "|:--------|:------|:------|:------|:-------|:-------|:-------|:-------|\n",
      "| RISK    | 0.00% | 5.00% | 9.09% | 25.00% | 63.16% | 78.57% | 98.68% |\n"
     ]
    }
   ],
   "source": [
    "test_end_2_end()"
   ]
  },
  {
   "cell_type": "code",
   "execution_count": null,
   "metadata": {},
   "outputs": [],
   "source": []
  }
 ],
 "metadata": {
  "kernelspec": {
   "display_name": "env_scorepyo_without_setuppy",
   "language": "python",
   "name": "python3"
  },
  "language_info": {
   "codemirror_mode": {
    "name": "ipython",
    "version": 3
   },
   "file_extension": ".py",
   "mimetype": "text/x-python",
   "name": "python",
   "nbconvert_exporter": "python",
   "pygments_lexer": "ipython3",
   "version": "3.9.15"
  },
  "orig_nbformat": 4
 },
 "nbformat": 4,
 "nbformat_minor": 2
}
